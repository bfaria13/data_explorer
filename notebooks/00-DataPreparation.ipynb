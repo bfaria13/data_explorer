{
 "cells": [
  {
   "cell_type": "markdown",
   "metadata": {},
   "source": [
    "<h2 style='color:green'>First step: Preparing the datafile</h2>\n",
    "\n",
    "**Preparing the database for future analysis and exploration**"
   ]
  },
  {
   "cell_type": "code",
   "execution_count": 1,
   "metadata": {},
   "outputs": [],
   "source": [
    "## Essential packages\n",
    "\n",
    "import os\n",
    "import sys\n",
    "import pandas as pd\n",
    "\n",
    "sys.path.insert(0, '../')\n",
    "from src.utils import check_columns, rm_duplicates"
   ]
  },
  {
   "cell_type": "markdown",
   "metadata": {},
   "source": [
    "### 1. Loading files"
   ]
  },
  {
   "cell_type": "code",
   "execution_count": 2,
   "metadata": {},
   "outputs": [
    {
     "name": "stdout",
     "output_type": "stream",
     "text": [
      "['books_data.csv', 'Books_rating.csv']\n"
     ]
    }
   ],
   "source": [
    "filepath = '../data/'\n",
    "listfiles = os.listdir(filepath)\n",
    "print(listfiles)"
   ]
  },
  {
   "cell_type": "code",
   "execution_count": 3,
   "metadata": {},
   "outputs": [
    {
     "name": "stdout",
     "output_type": "stream",
     "text": [
      "File size:\n",
      "total 2.9G\n",
      "-rwxrwxrwx 1 bfaria bfaria 2.7G Aug 26 09:32 Books_rating.csv\n",
      "-rwxrwxrwx 1 bfaria bfaria 173M Aug 26 09:24 books_data.csv\n"
     ]
    }
   ],
   "source": [
    "%%bash\n",
    "echo 'File size:'\n",
    "ls -lh ../data/"
   ]
  },
  {
   "cell_type": "code",
   "execution_count": 4,
   "metadata": {},
   "outputs": [],
   "source": [
    "filename1 = os.path.join(filepath, listfiles[0])\n",
    "filename2 = os.path.join(filepath, listfiles[1])"
   ]
  },
  {
   "cell_type": "code",
   "execution_count": 5,
   "metadata": {},
   "outputs": [
    {
     "name": "stdout",
     "output_type": "stream",
     "text": [
      "CPU times: user 2.29 s, sys: 143 ms, total: 2.44 s\n",
      "Wall time: 3.35 s\n"
     ]
    }
   ],
   "source": [
    "%%time\n",
    "\n",
    "df1 = pd.read_csv(filename1)"
   ]
  },
  {
   "cell_type": "code",
   "execution_count": 6,
   "metadata": {},
   "outputs": [
    {
     "name": "stdout",
     "output_type": "stream",
     "text": [
      "CPU times: user 24.3 s, sys: 1.84 s, total: 26.1 s\n",
      "Wall time: 38.4 s\n"
     ]
    }
   ],
   "source": [
    "%%time\n",
    "\n",
    "df2 = pd.read_csv(filename2)"
   ]
  },
  {
   "cell_type": "markdown",
   "metadata": {},
   "source": [
    "### 2. Preparing files\n",
    "\n",
    "- Checking, Merging & Treating"
   ]
  },
  {
   "cell_type": "markdown",
   "metadata": {},
   "source": [
    "##### a. Checking"
   ]
  },
  {
   "cell_type": "code",
   "execution_count": 7,
   "metadata": {},
   "outputs": [
    {
     "data": {
      "text/html": [
       "<div>\n",
       "<style scoped>\n",
       "    .dataframe tbody tr th:only-of-type {\n",
       "        vertical-align: middle;\n",
       "    }\n",
       "\n",
       "    .dataframe tbody tr th {\n",
       "        vertical-align: top;\n",
       "    }\n",
       "\n",
       "    .dataframe thead th {\n",
       "        text-align: right;\n",
       "    }\n",
       "</style>\n",
       "<table border=\"1\" class=\"dataframe\">\n",
       "  <thead>\n",
       "    <tr style=\"text-align: right;\">\n",
       "      <th></th>\n",
       "      <th>Title</th>\n",
       "      <th>description</th>\n",
       "      <th>authors</th>\n",
       "      <th>image</th>\n",
       "      <th>previewLink</th>\n",
       "      <th>publisher</th>\n",
       "      <th>publishedDate</th>\n",
       "      <th>infoLink</th>\n",
       "      <th>categories</th>\n",
       "      <th>ratingsCount</th>\n",
       "    </tr>\n",
       "  </thead>\n",
       "  <tbody>\n",
       "    <tr>\n",
       "      <th>0</th>\n",
       "      <td>Its Only Art If Its Well Hung!</td>\n",
       "      <td>NaN</td>\n",
       "      <td>['Julie Strain']</td>\n",
       "      <td>http://books.google.com/books/content?id=DykPA...</td>\n",
       "      <td>http://books.google.nl/books?id=DykPAAAACAAJ&amp;d...</td>\n",
       "      <td>NaN</td>\n",
       "      <td>1996</td>\n",
       "      <td>http://books.google.nl/books?id=DykPAAAACAAJ&amp;d...</td>\n",
       "      <td>['Comics &amp; Graphic Novels']</td>\n",
       "      <td>NaN</td>\n",
       "    </tr>\n",
       "    <tr>\n",
       "      <th>1</th>\n",
       "      <td>Dr. Seuss: American Icon</td>\n",
       "      <td>Philip Nel takes a fascinating look into the k...</td>\n",
       "      <td>['Philip Nel']</td>\n",
       "      <td>http://books.google.com/books/content?id=IjvHQ...</td>\n",
       "      <td>http://books.google.nl/books?id=IjvHQsCn_pgC&amp;p...</td>\n",
       "      <td>A&amp;C Black</td>\n",
       "      <td>2005-01-01</td>\n",
       "      <td>http://books.google.nl/books?id=IjvHQsCn_pgC&amp;d...</td>\n",
       "      <td>['Biography &amp; Autobiography']</td>\n",
       "      <td>NaN</td>\n",
       "    </tr>\n",
       "    <tr>\n",
       "      <th>2</th>\n",
       "      <td>Wonderful Worship in Smaller Churches</td>\n",
       "      <td>This resource includes twelve principles in un...</td>\n",
       "      <td>['David R. Ray']</td>\n",
       "      <td>http://books.google.com/books/content?id=2tsDA...</td>\n",
       "      <td>http://books.google.nl/books?id=2tsDAAAACAAJ&amp;d...</td>\n",
       "      <td>NaN</td>\n",
       "      <td>2000</td>\n",
       "      <td>http://books.google.nl/books?id=2tsDAAAACAAJ&amp;d...</td>\n",
       "      <td>['Religion']</td>\n",
       "      <td>NaN</td>\n",
       "    </tr>\n",
       "  </tbody>\n",
       "</table>\n",
       "</div>"
      ],
      "text/plain": [
       "                                   Title  \\\n",
       "0         Its Only Art If Its Well Hung!   \n",
       "1               Dr. Seuss: American Icon   \n",
       "2  Wonderful Worship in Smaller Churches   \n",
       "\n",
       "                                         description           authors  \\\n",
       "0                                                NaN  ['Julie Strain']   \n",
       "1  Philip Nel takes a fascinating look into the k...    ['Philip Nel']   \n",
       "2  This resource includes twelve principles in un...  ['David R. Ray']   \n",
       "\n",
       "                                               image  \\\n",
       "0  http://books.google.com/books/content?id=DykPA...   \n",
       "1  http://books.google.com/books/content?id=IjvHQ...   \n",
       "2  http://books.google.com/books/content?id=2tsDA...   \n",
       "\n",
       "                                         previewLink  publisher publishedDate  \\\n",
       "0  http://books.google.nl/books?id=DykPAAAACAAJ&d...        NaN          1996   \n",
       "1  http://books.google.nl/books?id=IjvHQsCn_pgC&p...  A&C Black    2005-01-01   \n",
       "2  http://books.google.nl/books?id=2tsDAAAACAAJ&d...        NaN          2000   \n",
       "\n",
       "                                            infoLink  \\\n",
       "0  http://books.google.nl/books?id=DykPAAAACAAJ&d...   \n",
       "1  http://books.google.nl/books?id=IjvHQsCn_pgC&d...   \n",
       "2  http://books.google.nl/books?id=2tsDAAAACAAJ&d...   \n",
       "\n",
       "                      categories  ratingsCount  \n",
       "0    ['Comics & Graphic Novels']           NaN  \n",
       "1  ['Biography & Autobiography']           NaN  \n",
       "2                   ['Religion']           NaN  "
      ]
     },
     "execution_count": 7,
     "metadata": {},
     "output_type": "execute_result"
    }
   ],
   "source": [
    "## Features of each book\n",
    "\n",
    "df1.head(3)"
   ]
  },
  {
   "cell_type": "code",
   "execution_count": 8,
   "metadata": {},
   "outputs": [
    {
     "data": {
      "text/html": [
       "<div>\n",
       "<style scoped>\n",
       "    .dataframe tbody tr th:only-of-type {\n",
       "        vertical-align: middle;\n",
       "    }\n",
       "\n",
       "    .dataframe tbody tr th {\n",
       "        vertical-align: top;\n",
       "    }\n",
       "\n",
       "    .dataframe thead th {\n",
       "        text-align: right;\n",
       "    }\n",
       "</style>\n",
       "<table border=\"1\" class=\"dataframe\">\n",
       "  <thead>\n",
       "    <tr style=\"text-align: right;\">\n",
       "      <th></th>\n",
       "      <th>Variavel</th>\n",
       "      <th>Tipo</th>\n",
       "      <th>Qtde_unicos</th>\n",
       "      <th>Qtde_NaN</th>\n",
       "      <th>%_NaN</th>\n",
       "    </tr>\n",
       "  </thead>\n",
       "  <tbody>\n",
       "    <tr>\n",
       "      <th>0</th>\n",
       "      <td>Title</td>\n",
       "      <td>object</td>\n",
       "      <td>212403</td>\n",
       "      <td>1</td>\n",
       "      <td>0.0</td>\n",
       "    </tr>\n",
       "    <tr>\n",
       "      <th>1</th>\n",
       "      <td>description</td>\n",
       "      <td>object</td>\n",
       "      <td>133226</td>\n",
       "      <td>68442</td>\n",
       "      <td>32.2</td>\n",
       "    </tr>\n",
       "    <tr>\n",
       "      <th>2</th>\n",
       "      <td>authors</td>\n",
       "      <td>object</td>\n",
       "      <td>127278</td>\n",
       "      <td>31413</td>\n",
       "      <td>14.8</td>\n",
       "    </tr>\n",
       "    <tr>\n",
       "      <th>3</th>\n",
       "      <td>image</td>\n",
       "      <td>object</td>\n",
       "      <td>149387</td>\n",
       "      <td>52075</td>\n",
       "      <td>24.5</td>\n",
       "    </tr>\n",
       "    <tr>\n",
       "      <th>4</th>\n",
       "      <td>previewLink</td>\n",
       "      <td>object</td>\n",
       "      <td>188099</td>\n",
       "      <td>23836</td>\n",
       "      <td>11.2</td>\n",
       "    </tr>\n",
       "    <tr>\n",
       "      <th>5</th>\n",
       "      <td>publisher</td>\n",
       "      <td>object</td>\n",
       "      <td>16016</td>\n",
       "      <td>75886</td>\n",
       "      <td>35.7</td>\n",
       "    </tr>\n",
       "    <tr>\n",
       "      <th>6</th>\n",
       "      <td>publishedDate</td>\n",
       "      <td>object</td>\n",
       "      <td>11582</td>\n",
       "      <td>25305</td>\n",
       "      <td>11.9</td>\n",
       "    </tr>\n",
       "    <tr>\n",
       "      <th>7</th>\n",
       "      <td>infoLink</td>\n",
       "      <td>object</td>\n",
       "      <td>184506</td>\n",
       "      <td>23836</td>\n",
       "      <td>11.2</td>\n",
       "    </tr>\n",
       "    <tr>\n",
       "      <th>8</th>\n",
       "      <td>categories</td>\n",
       "      <td>object</td>\n",
       "      <td>10883</td>\n",
       "      <td>41199</td>\n",
       "      <td>19.4</td>\n",
       "    </tr>\n",
       "    <tr>\n",
       "      <th>9</th>\n",
       "      <td>ratingsCount</td>\n",
       "      <td>float64</td>\n",
       "      <td>478</td>\n",
       "      <td>162652</td>\n",
       "      <td>76.6</td>\n",
       "    </tr>\n",
       "  </tbody>\n",
       "</table>\n",
       "</div>"
      ],
      "text/plain": [
       "        Variavel     Tipo  Qtde_unicos  Qtde_NaN  %_NaN\n",
       "0          Title   object       212403         1    0.0\n",
       "1    description   object       133226     68442   32.2\n",
       "2        authors   object       127278     31413   14.8\n",
       "3          image   object       149387     52075   24.5\n",
       "4    previewLink   object       188099     23836   11.2\n",
       "5      publisher   object        16016     75886   35.7\n",
       "6  publishedDate   object        11582     25305   11.9\n",
       "7       infoLink   object       184506     23836   11.2\n",
       "8     categories   object        10883     41199   19.4\n",
       "9   ratingsCount  float64          478    162652   76.6"
      ]
     },
     "execution_count": 8,
     "metadata": {},
     "output_type": "execute_result"
    }
   ],
   "source": [
    "check_columns(df1, df1.columns)"
   ]
  },
  {
   "cell_type": "code",
   "execution_count": 9,
   "metadata": {},
   "outputs": [
    {
     "name": "stdout",
     "output_type": "stream",
     "text": [
      "Without duplicated lines!\n"
     ]
    }
   ],
   "source": [
    "## Check/Remove duplicates\n",
    "\n",
    "df1 = rm_duplicates(df1, verbose=True)"
   ]
  },
  {
   "cell_type": "code",
   "execution_count": 10,
   "metadata": {},
   "outputs": [
    {
     "name": "stdout",
     "output_type": "stream",
     "text": [
      "df shape: (212404, 10) <=> total title uniques: 212403\n"
     ]
    }
   ],
   "source": [
    "## Checking quantity of different titles\n",
    "\n",
    "print(f'df shape: {df1.shape} <=> total title uniques: {df1.Title.nunique()}')"
   ]
  },
  {
   "cell_type": "code",
   "execution_count": 11,
   "metadata": {},
   "outputs": [
    {
     "data": {
      "text/html": [
       "<div>\n",
       "<style scoped>\n",
       "    .dataframe tbody tr th:only-of-type {\n",
       "        vertical-align: middle;\n",
       "    }\n",
       "\n",
       "    .dataframe tbody tr th {\n",
       "        vertical-align: top;\n",
       "    }\n",
       "\n",
       "    .dataframe thead th {\n",
       "        text-align: right;\n",
       "    }\n",
       "</style>\n",
       "<table border=\"1\" class=\"dataframe\">\n",
       "  <thead>\n",
       "    <tr style=\"text-align: right;\">\n",
       "      <th></th>\n",
       "      <th>Id</th>\n",
       "      <th>Title</th>\n",
       "      <th>Price</th>\n",
       "      <th>User_id</th>\n",
       "      <th>profileName</th>\n",
       "      <th>score</th>\n",
       "      <th>time</th>\n",
       "      <th>summary</th>\n",
       "      <th>text</th>\n",
       "    </tr>\n",
       "  </thead>\n",
       "  <tbody>\n",
       "    <tr>\n",
       "      <th>0</th>\n",
       "      <td>1882931173</td>\n",
       "      <td>Its Only Art If Its Well Hung!</td>\n",
       "      <td>NaN</td>\n",
       "      <td>AVCGYZL8FQQTD</td>\n",
       "      <td>Jim of Oz \"jim-of-oz\"</td>\n",
       "      <td>4.0</td>\n",
       "      <td>940636800</td>\n",
       "      <td>Nice collection of Julie Strain images</td>\n",
       "      <td>This is only for Julie Strain fans. It's a col...</td>\n",
       "    </tr>\n",
       "    <tr>\n",
       "      <th>1</th>\n",
       "      <td>0826414346</td>\n",
       "      <td>Dr. Seuss: American Icon</td>\n",
       "      <td>NaN</td>\n",
       "      <td>A30TK6U7DNS82R</td>\n",
       "      <td>Kevin Killian</td>\n",
       "      <td>5.0</td>\n",
       "      <td>1095724800</td>\n",
       "      <td>Really Enjoyed It</td>\n",
       "      <td>I don't care much for Dr. Seuss but after read...</td>\n",
       "    </tr>\n",
       "    <tr>\n",
       "      <th>2</th>\n",
       "      <td>0826414346</td>\n",
       "      <td>Dr. Seuss: American Icon</td>\n",
       "      <td>NaN</td>\n",
       "      <td>A3UH4UZ4RSVO82</td>\n",
       "      <td>John Granger</td>\n",
       "      <td>5.0</td>\n",
       "      <td>1078790400</td>\n",
       "      <td>Essential for every personal and Public Library</td>\n",
       "      <td>If people become the books they read and if \"t...</td>\n",
       "    </tr>\n",
       "  </tbody>\n",
       "</table>\n",
       "</div>"
      ],
      "text/plain": [
       "           Id                           Title  Price         User_id  \\\n",
       "0  1882931173  Its Only Art If Its Well Hung!    NaN   AVCGYZL8FQQTD   \n",
       "1  0826414346        Dr. Seuss: American Icon    NaN  A30TK6U7DNS82R   \n",
       "2  0826414346        Dr. Seuss: American Icon    NaN  A3UH4UZ4RSVO82   \n",
       "\n",
       "             profileName  score        time  \\\n",
       "0  Jim of Oz \"jim-of-oz\"    4.0   940636800   \n",
       "1          Kevin Killian    5.0  1095724800   \n",
       "2           John Granger    5.0  1078790400   \n",
       "\n",
       "                                           summary  \\\n",
       "0           Nice collection of Julie Strain images   \n",
       "1                                Really Enjoyed It   \n",
       "2  Essential for every personal and Public Library   \n",
       "\n",
       "                                                text  \n",
       "0  This is only for Julie Strain fans. It's a col...  \n",
       "1  I don't care much for Dr. Seuss but after read...  \n",
       "2  If people become the books they read and if \"t...  "
      ]
     },
     "execution_count": 11,
     "metadata": {},
     "output_type": "execute_result"
    }
   ],
   "source": [
    "## Features of each evaluation\n",
    "\n",
    "df2.head(3)"
   ]
  },
  {
   "cell_type": "code",
   "execution_count": 12,
   "metadata": {},
   "outputs": [
    {
     "data": {
      "text/html": [
       "<div>\n",
       "<style scoped>\n",
       "    .dataframe tbody tr th:only-of-type {\n",
       "        vertical-align: middle;\n",
       "    }\n",
       "\n",
       "    .dataframe tbody tr th {\n",
       "        vertical-align: top;\n",
       "    }\n",
       "\n",
       "    .dataframe thead th {\n",
       "        text-align: right;\n",
       "    }\n",
       "</style>\n",
       "<table border=\"1\" class=\"dataframe\">\n",
       "  <thead>\n",
       "    <tr style=\"text-align: right;\">\n",
       "      <th></th>\n",
       "      <th>Variavel</th>\n",
       "      <th>Tipo</th>\n",
       "      <th>Qtde_unicos</th>\n",
       "      <th>Qtde_NaN</th>\n",
       "      <th>%_NaN</th>\n",
       "    </tr>\n",
       "  </thead>\n",
       "  <tbody>\n",
       "    <tr>\n",
       "      <th>0</th>\n",
       "      <td>Id</td>\n",
       "      <td>object</td>\n",
       "      <td>221998</td>\n",
       "      <td>0</td>\n",
       "      <td>0.0</td>\n",
       "    </tr>\n",
       "    <tr>\n",
       "      <th>1</th>\n",
       "      <td>Title</td>\n",
       "      <td>object</td>\n",
       "      <td>212403</td>\n",
       "      <td>208</td>\n",
       "      <td>0.0</td>\n",
       "    </tr>\n",
       "    <tr>\n",
       "      <th>2</th>\n",
       "      <td>Price</td>\n",
       "      <td>float64</td>\n",
       "      <td>6004</td>\n",
       "      <td>2518829</td>\n",
       "      <td>84.0</td>\n",
       "    </tr>\n",
       "    <tr>\n",
       "      <th>3</th>\n",
       "      <td>User_id</td>\n",
       "      <td>object</td>\n",
       "      <td>1008972</td>\n",
       "      <td>561787</td>\n",
       "      <td>18.7</td>\n",
       "    </tr>\n",
       "    <tr>\n",
       "      <th>4</th>\n",
       "      <td>profileName</td>\n",
       "      <td>object</td>\n",
       "      <td>854145</td>\n",
       "      <td>561905</td>\n",
       "      <td>18.7</td>\n",
       "    </tr>\n",
       "    <tr>\n",
       "      <th>5</th>\n",
       "      <td>score</td>\n",
       "      <td>float64</td>\n",
       "      <td>5</td>\n",
       "      <td>0</td>\n",
       "      <td>0.0</td>\n",
       "    </tr>\n",
       "    <tr>\n",
       "      <th>6</th>\n",
       "      <td>time</td>\n",
       "      <td>int64</td>\n",
       "      <td>6272</td>\n",
       "      <td>0</td>\n",
       "      <td>0.0</td>\n",
       "    </tr>\n",
       "    <tr>\n",
       "      <th>7</th>\n",
       "      <td>summary</td>\n",
       "      <td>object</td>\n",
       "      <td>1592314</td>\n",
       "      <td>407</td>\n",
       "      <td>0.0</td>\n",
       "    </tr>\n",
       "    <tr>\n",
       "      <th>8</th>\n",
       "      <td>text</td>\n",
       "      <td>object</td>\n",
       "      <td>2062648</td>\n",
       "      <td>8</td>\n",
       "      <td>0.0</td>\n",
       "    </tr>\n",
       "  </tbody>\n",
       "</table>\n",
       "</div>"
      ],
      "text/plain": [
       "      Variavel     Tipo  Qtde_unicos  Qtde_NaN  %_NaN\n",
       "0           Id   object       221998         0    0.0\n",
       "1        Title   object       212403       208    0.0\n",
       "2        Price  float64         6004   2518829   84.0\n",
       "3      User_id   object      1008972    561787   18.7\n",
       "4  profileName   object       854145    561905   18.7\n",
       "5        score  float64            5         0    0.0\n",
       "6         time    int64         6272         0    0.0\n",
       "7      summary   object      1592314       407    0.0\n",
       "8         text   object      2062648         8    0.0"
      ]
     },
     "execution_count": 12,
     "metadata": {},
     "output_type": "execute_result"
    }
   ],
   "source": [
    "check_columns(df2, df2.columns)"
   ]
  },
  {
   "cell_type": "code",
   "execution_count": 13,
   "metadata": {},
   "outputs": [
    {
     "name": "stdout",
     "output_type": "stream",
     "text": [
      "Total duplicate rows removed: 21103\n",
      "Total of duplicated lines after drop: 0\n"
     ]
    }
   ],
   "source": [
    "## Check/Remove duplicates\n",
    "\n",
    "df2 = rm_duplicates(df2, verbose=True)"
   ]
  },
  {
   "cell_type": "code",
   "execution_count": 14,
   "metadata": {},
   "outputs": [
    {
     "name": "stdout",
     "output_type": "stream",
     "text": [
      "df shape: (2978897, 9) <=> total title uniques: 212403\n"
     ]
    }
   ],
   "source": [
    "## Checking quantity of different titles\n",
    "\n",
    "print(f'df shape: {df2.shape} <=> total title uniques: {df2.Title.nunique()}')"
   ]
  },
  {
   "cell_type": "code",
   "execution_count": 15,
   "metadata": {},
   "outputs": [
    {
     "name": "stdout",
     "output_type": "stream",
     "text": [
      "Summary:  Nice collection of Julie Strain images\n",
      "Opinion:  This is only for Julie Strain fans. It's a collection of her photos -- about 80 pages worth with a nice section of paintings by Olivia.If you're looking for heavy literary content, this isn't the place to find it -- there's only about 2 pages with text and everything else is photos.Bottom line: if you only want one book, the Six Foot One ... is probably a better choice, however, if you like Julie like I like Julie, you won't go wrong on this one either.\n"
     ]
    }
   ],
   "source": [
    "print('Summary: ', df2.iloc[0,-2])\n",
    "print('Opinion: ', df2.iloc[0,-1])"
   ]
  },
  {
   "cell_type": "code",
   "execution_count": 16,
   "metadata": {},
   "outputs": [
    {
     "name": "stdout",
     "output_type": "stream",
     "text": [
      "Matching titles (both dfs):  212404\n",
      "Divergent titles writing:  0\n"
     ]
    }
   ],
   "source": [
    "## Title identification: checking writing match\n",
    "\n",
    "print('Matching titles (both dfs): ', len(set(df1.Title.unique()).intersection(df2.Title.unique())))\n",
    "print('Divergent titles writing: ', len(set(df1.Title.unique()).difference(df2.Title.unique())))"
   ]
  },
  {
   "cell_type": "markdown",
   "metadata": {},
   "source": [
    "**Notes:**\n",
    "\n",
    "- Getting:\n",
    "    - Title, authors, publisher, publishedDate, categories =: features for book\n",
    "    - Title, score, summary, text =: features for evaluation\n",
    "- Merging Title column in df1 & df2\n",
    "- Drop missing Titles\n",
    "- Replace missing values in authors & categories as str(['not informed'])\n",
    "- publishedDate: get only year\n",
    "    - replace column name 'publishedDate' by 'publishedYear'\n",
    "- Replace all others missing values by 'not informed'"
   ]
  },
  {
   "cell_type": "markdown",
   "metadata": {},
   "source": [
    "##### b. Merging"
   ]
  },
  {
   "cell_type": "code",
   "execution_count": 17,
   "metadata": {},
   "outputs": [
    {
     "data": {
      "text/plain": [
       "(2978897, 8)"
      ]
     },
     "execution_count": 17,
     "metadata": {},
     "output_type": "execute_result"
    }
   ],
   "source": [
    "cols = ['Title', 'authors', 'publisher', 'publishedDate', 'categories', 'score', 'summary', 'text']\n",
    "\n",
    "df1_ = df1[[x for x in df1.columns if x in cols]]\n",
    "df2_ = df2[[x for x in df2.columns if x in cols]]\n",
    "\n",
    "df = pd.merge(df1_, df2_, on=[\"Title\"], how='left')\n",
    "\n",
    "del df1, df2, df1_, df2_\n",
    "\n",
    "df.shape"
   ]
  },
  {
   "cell_type": "code",
   "execution_count": 18,
   "metadata": {},
   "outputs": [
    {
     "data": {
      "text/html": [
       "<div>\n",
       "<style scoped>\n",
       "    .dataframe tbody tr th:only-of-type {\n",
       "        vertical-align: middle;\n",
       "    }\n",
       "\n",
       "    .dataframe tbody tr th {\n",
       "        vertical-align: top;\n",
       "    }\n",
       "\n",
       "    .dataframe thead th {\n",
       "        text-align: right;\n",
       "    }\n",
       "</style>\n",
       "<table border=\"1\" class=\"dataframe\">\n",
       "  <thead>\n",
       "    <tr style=\"text-align: right;\">\n",
       "      <th></th>\n",
       "      <th>Title</th>\n",
       "      <th>authors</th>\n",
       "      <th>publisher</th>\n",
       "      <th>publishedDate</th>\n",
       "      <th>categories</th>\n",
       "      <th>score</th>\n",
       "      <th>summary</th>\n",
       "      <th>text</th>\n",
       "    </tr>\n",
       "  </thead>\n",
       "  <tbody>\n",
       "    <tr>\n",
       "      <th>0</th>\n",
       "      <td>Its Only Art If Its Well Hung!</td>\n",
       "      <td>['Julie Strain']</td>\n",
       "      <td>NaN</td>\n",
       "      <td>1996</td>\n",
       "      <td>['Comics &amp; Graphic Novels']</td>\n",
       "      <td>4.0</td>\n",
       "      <td>Nice collection of Julie Strain images</td>\n",
       "      <td>This is only for Julie Strain fans. It's a col...</td>\n",
       "    </tr>\n",
       "    <tr>\n",
       "      <th>1</th>\n",
       "      <td>Dr. Seuss: American Icon</td>\n",
       "      <td>['Philip Nel']</td>\n",
       "      <td>A&amp;C Black</td>\n",
       "      <td>2005-01-01</td>\n",
       "      <td>['Biography &amp; Autobiography']</td>\n",
       "      <td>5.0</td>\n",
       "      <td>Really Enjoyed It</td>\n",
       "      <td>I don't care much for Dr. Seuss but after read...</td>\n",
       "    </tr>\n",
       "    <tr>\n",
       "      <th>2</th>\n",
       "      <td>Dr. Seuss: American Icon</td>\n",
       "      <td>['Philip Nel']</td>\n",
       "      <td>A&amp;C Black</td>\n",
       "      <td>2005-01-01</td>\n",
       "      <td>['Biography &amp; Autobiography']</td>\n",
       "      <td>5.0</td>\n",
       "      <td>Essential for every personal and Public Library</td>\n",
       "      <td>If people become the books they read and if \"t...</td>\n",
       "    </tr>\n",
       "  </tbody>\n",
       "</table>\n",
       "</div>"
      ],
      "text/plain": [
       "                            Title           authors  publisher publishedDate  \\\n",
       "0  Its Only Art If Its Well Hung!  ['Julie Strain']        NaN          1996   \n",
       "1        Dr. Seuss: American Icon    ['Philip Nel']  A&C Black    2005-01-01   \n",
       "2        Dr. Seuss: American Icon    ['Philip Nel']  A&C Black    2005-01-01   \n",
       "\n",
       "                      categories  score  \\\n",
       "0    ['Comics & Graphic Novels']    4.0   \n",
       "1  ['Biography & Autobiography']    5.0   \n",
       "2  ['Biography & Autobiography']    5.0   \n",
       "\n",
       "                                           summary  \\\n",
       "0           Nice collection of Julie Strain images   \n",
       "1                                Really Enjoyed It   \n",
       "2  Essential for every personal and Public Library   \n",
       "\n",
       "                                                text  \n",
       "0  This is only for Julie Strain fans. It's a col...  \n",
       "1  I don't care much for Dr. Seuss but after read...  \n",
       "2  If people become the books they read and if \"t...  "
      ]
     },
     "execution_count": 18,
     "metadata": {},
     "output_type": "execute_result"
    }
   ],
   "source": [
    "df.head(3)"
   ]
  },
  {
   "cell_type": "code",
   "execution_count": 19,
   "metadata": {},
   "outputs": [
    {
     "name": "stdout",
     "output_type": "stream",
     "text": [
      "Total duplicate rows removed: 357746\n",
      "Total of duplicated lines after drop: 0\n"
     ]
    },
    {
     "data": {
      "text/plain": [
       "(2621151, 8)"
      ]
     },
     "execution_count": 19,
     "metadata": {},
     "output_type": "execute_result"
    }
   ],
   "source": [
    "## Check/Remove duplicates\n",
    "\n",
    "df = rm_duplicates(df, verbose=True)\n",
    "df.shape"
   ]
  },
  {
   "cell_type": "code",
   "execution_count": 20,
   "metadata": {},
   "outputs": [
    {
     "data": {
      "text/html": [
       "<div>\n",
       "<style scoped>\n",
       "    .dataframe tbody tr th:only-of-type {\n",
       "        vertical-align: middle;\n",
       "    }\n",
       "\n",
       "    .dataframe tbody tr th {\n",
       "        vertical-align: top;\n",
       "    }\n",
       "\n",
       "    .dataframe thead th {\n",
       "        text-align: right;\n",
       "    }\n",
       "</style>\n",
       "<table border=\"1\" class=\"dataframe\">\n",
       "  <thead>\n",
       "    <tr style=\"text-align: right;\">\n",
       "      <th></th>\n",
       "      <th>Variavel</th>\n",
       "      <th>Tipo</th>\n",
       "      <th>Qtde_unicos</th>\n",
       "      <th>Qtde_NaN</th>\n",
       "      <th>%_NaN</th>\n",
       "    </tr>\n",
       "  </thead>\n",
       "  <tbody>\n",
       "    <tr>\n",
       "      <th>0</th>\n",
       "      <td>Title</td>\n",
       "      <td>object</td>\n",
       "      <td>212403</td>\n",
       "      <td>207</td>\n",
       "      <td>0.0</td>\n",
       "    </tr>\n",
       "    <tr>\n",
       "      <th>1</th>\n",
       "      <td>authors</td>\n",
       "      <td>object</td>\n",
       "      <td>127278</td>\n",
       "      <td>350729</td>\n",
       "      <td>13.4</td>\n",
       "    </tr>\n",
       "    <tr>\n",
       "      <th>2</th>\n",
       "      <td>publisher</td>\n",
       "      <td>object</td>\n",
       "      <td>16016</td>\n",
       "      <td>697439</td>\n",
       "      <td>26.6</td>\n",
       "    </tr>\n",
       "    <tr>\n",
       "      <th>3</th>\n",
       "      <td>publishedDate</td>\n",
       "      <td>object</td>\n",
       "      <td>11582</td>\n",
       "      <td>307554</td>\n",
       "      <td>11.7</td>\n",
       "    </tr>\n",
       "    <tr>\n",
       "      <th>4</th>\n",
       "      <td>categories</td>\n",
       "      <td>object</td>\n",
       "      <td>10883</td>\n",
       "      <td>466691</td>\n",
       "      <td>17.8</td>\n",
       "    </tr>\n",
       "    <tr>\n",
       "      <th>5</th>\n",
       "      <td>score</td>\n",
       "      <td>float64</td>\n",
       "      <td>5</td>\n",
       "      <td>0</td>\n",
       "      <td>0.0</td>\n",
       "    </tr>\n",
       "    <tr>\n",
       "      <th>6</th>\n",
       "      <td>summary</td>\n",
       "      <td>object</td>\n",
       "      <td>1592314</td>\n",
       "      <td>326</td>\n",
       "      <td>0.0</td>\n",
       "    </tr>\n",
       "    <tr>\n",
       "      <th>7</th>\n",
       "      <td>text</td>\n",
       "      <td>object</td>\n",
       "      <td>2062648</td>\n",
       "      <td>8</td>\n",
       "      <td>0.0</td>\n",
       "    </tr>\n",
       "  </tbody>\n",
       "</table>\n",
       "</div>"
      ],
      "text/plain": [
       "        Variavel     Tipo  Qtde_unicos  Qtde_NaN  %_NaN\n",
       "0          Title   object       212403       207    0.0\n",
       "1        authors   object       127278    350729   13.4\n",
       "2      publisher   object        16016    697439   26.6\n",
       "3  publishedDate   object        11582    307554   11.7\n",
       "4     categories   object        10883    466691   17.8\n",
       "5          score  float64            5         0    0.0\n",
       "6        summary   object      1592314       326    0.0\n",
       "7           text   object      2062648         8    0.0"
      ]
     },
     "execution_count": 20,
     "metadata": {},
     "output_type": "execute_result"
    }
   ],
   "source": [
    "check_columns(df, df.columns)"
   ]
  },
  {
   "cell_type": "markdown",
   "metadata": {},
   "source": [
    "##### c. Treating"
   ]
  },
  {
   "cell_type": "code",
   "execution_count": 21,
   "metadata": {},
   "outputs": [
    {
     "data": {
      "text/plain": [
       "(2620944, 8)"
      ]
     },
     "execution_count": 21,
     "metadata": {},
     "output_type": "execute_result"
    }
   ],
   "source": [
    "## Remove missing Title\n",
    "\n",
    "df.dropna(subset='Title', inplace=True)\n",
    "\n",
    "## Replace missing author by 'not informed' (option 1)\n",
    "\n",
    "df['authors'] = df.authors.fillna(value=str(['not informed']))\n",
    "\n",
    "## Option 2:\n",
    "#df = df.dropna(subset='authors')\n",
    "\n",
    "df.shape"
   ]
  },
  {
   "cell_type": "code",
   "execution_count": 22,
   "metadata": {},
   "outputs": [
    {
     "data": {
      "text/html": [
       "<div>\n",
       "<style scoped>\n",
       "    .dataframe tbody tr th:only-of-type {\n",
       "        vertical-align: middle;\n",
       "    }\n",
       "\n",
       "    .dataframe tbody tr th {\n",
       "        vertical-align: top;\n",
       "    }\n",
       "\n",
       "    .dataframe thead th {\n",
       "        text-align: right;\n",
       "    }\n",
       "</style>\n",
       "<table border=\"1\" class=\"dataframe\">\n",
       "  <thead>\n",
       "    <tr style=\"text-align: right;\">\n",
       "      <th></th>\n",
       "      <th>Variavel</th>\n",
       "      <th>Tipo</th>\n",
       "      <th>Qtde_unicos</th>\n",
       "      <th>Qtde_NaN</th>\n",
       "      <th>%_NaN</th>\n",
       "    </tr>\n",
       "  </thead>\n",
       "  <tbody>\n",
       "    <tr>\n",
       "      <th>0</th>\n",
       "      <td>Title</td>\n",
       "      <td>object</td>\n",
       "      <td>212403</td>\n",
       "      <td>0</td>\n",
       "      <td>0.0</td>\n",
       "    </tr>\n",
       "    <tr>\n",
       "      <th>1</th>\n",
       "      <td>authors</td>\n",
       "      <td>object</td>\n",
       "      <td>127278</td>\n",
       "      <td>0</td>\n",
       "      <td>0.0</td>\n",
       "    </tr>\n",
       "    <tr>\n",
       "      <th>2</th>\n",
       "      <td>publisher</td>\n",
       "      <td>object</td>\n",
       "      <td>16016</td>\n",
       "      <td>697232</td>\n",
       "      <td>26.6</td>\n",
       "    </tr>\n",
       "    <tr>\n",
       "      <th>3</th>\n",
       "      <td>publishedDate</td>\n",
       "      <td>object</td>\n",
       "      <td>11582</td>\n",
       "      <td>307554</td>\n",
       "      <td>11.7</td>\n",
       "    </tr>\n",
       "    <tr>\n",
       "      <th>4</th>\n",
       "      <td>categories</td>\n",
       "      <td>object</td>\n",
       "      <td>10883</td>\n",
       "      <td>466484</td>\n",
       "      <td>17.8</td>\n",
       "    </tr>\n",
       "    <tr>\n",
       "      <th>5</th>\n",
       "      <td>score</td>\n",
       "      <td>float64</td>\n",
       "      <td>5</td>\n",
       "      <td>0</td>\n",
       "      <td>0.0</td>\n",
       "    </tr>\n",
       "    <tr>\n",
       "      <th>6</th>\n",
       "      <td>summary</td>\n",
       "      <td>object</td>\n",
       "      <td>1592298</td>\n",
       "      <td>326</td>\n",
       "      <td>0.0</td>\n",
       "    </tr>\n",
       "    <tr>\n",
       "      <th>7</th>\n",
       "      <td>text</td>\n",
       "      <td>object</td>\n",
       "      <td>2062627</td>\n",
       "      <td>8</td>\n",
       "      <td>0.0</td>\n",
       "    </tr>\n",
       "  </tbody>\n",
       "</table>\n",
       "</div>"
      ],
      "text/plain": [
       "        Variavel     Tipo  Qtde_unicos  Qtde_NaN  %_NaN\n",
       "0          Title   object       212403         0    0.0\n",
       "1        authors   object       127278         0    0.0\n",
       "2      publisher   object        16016    697232   26.6\n",
       "3  publishedDate   object        11582    307554   11.7\n",
       "4     categories   object        10883    466484   17.8\n",
       "5          score  float64            5         0    0.0\n",
       "6        summary   object      1592298       326    0.0\n",
       "7           text   object      2062627         8    0.0"
      ]
     },
     "execution_count": 22,
     "metadata": {},
     "output_type": "execute_result"
    }
   ],
   "source": [
    "check_columns(df, df.columns)"
   ]
  },
  {
   "cell_type": "code",
   "execution_count": 23,
   "metadata": {},
   "outputs": [],
   "source": [
    "## Create year column based on publishedDate\n",
    "\n",
    "mapping_date = {}\n",
    "for d in df.publishedDate.unique():\n",
    "    try:\n",
    "        mapping_date[d] = int(pd.to_datetime(d).strftime('%Y'))\n",
    "    except:\n",
    "        mapping_date[d] = -1\n",
    "        \n",
    "df['publishedDate'] = df['publishedDate'].map(mapping_date)\n",
    "df.rename(columns={'publishedDate': 'publishedYear'}, inplace=True)\n",
    "\n",
    "## Replace missing categories by str('not informed')\n",
    "\n",
    "df['categories'] = df.categories.fillna(value=str(['not informed']))\n",
    "\n",
    "## Replace all others missing info by 'not informed'\n",
    "\n",
    "df.fillna(value='not informed', inplace=True)"
   ]
  },
  {
   "cell_type": "code",
   "execution_count": 24,
   "metadata": {},
   "outputs": [
    {
     "data": {
      "text/plain": [
       "(2620944, 9)"
      ]
     },
     "execution_count": 24,
     "metadata": {},
     "output_type": "execute_result"
    }
   ],
   "source": [
    "## Create recency column based on publishedYear\n",
    "\n",
    "mapping_date = {k:int(2024-k) for k in df.publishedYear.unique() if k != -1}\n",
    "mapping_date[-1] = -1\n",
    "\n",
    "df.insert(4, 'published_recency', df['publishedYear'].map(mapping_date))\n",
    "df.shape"
   ]
  },
  {
   "cell_type": "code",
   "execution_count": 25,
   "metadata": {},
   "outputs": [
    {
     "data": {
      "text/html": [
       "<div>\n",
       "<style scoped>\n",
       "    .dataframe tbody tr th:only-of-type {\n",
       "        vertical-align: middle;\n",
       "    }\n",
       "\n",
       "    .dataframe tbody tr th {\n",
       "        vertical-align: top;\n",
       "    }\n",
       "\n",
       "    .dataframe thead th {\n",
       "        text-align: right;\n",
       "    }\n",
       "</style>\n",
       "<table border=\"1\" class=\"dataframe\">\n",
       "  <thead>\n",
       "    <tr style=\"text-align: right;\">\n",
       "      <th></th>\n",
       "      <th>Variavel</th>\n",
       "      <th>Tipo</th>\n",
       "      <th>Qtde_unicos</th>\n",
       "      <th>Qtde_NaN</th>\n",
       "      <th>%_NaN</th>\n",
       "    </tr>\n",
       "  </thead>\n",
       "  <tbody>\n",
       "    <tr>\n",
       "      <th>0</th>\n",
       "      <td>Title</td>\n",
       "      <td>object</td>\n",
       "      <td>212403</td>\n",
       "      <td>0</td>\n",
       "      <td>0.0</td>\n",
       "    </tr>\n",
       "    <tr>\n",
       "      <th>1</th>\n",
       "      <td>authors</td>\n",
       "      <td>object</td>\n",
       "      <td>127278</td>\n",
       "      <td>0</td>\n",
       "      <td>0.0</td>\n",
       "    </tr>\n",
       "    <tr>\n",
       "      <th>2</th>\n",
       "      <td>publisher</td>\n",
       "      <td>object</td>\n",
       "      <td>16017</td>\n",
       "      <td>0</td>\n",
       "      <td>0.0</td>\n",
       "    </tr>\n",
       "    <tr>\n",
       "      <th>3</th>\n",
       "      <td>publishedYear</td>\n",
       "      <td>int64</td>\n",
       "      <td>307</td>\n",
       "      <td>0</td>\n",
       "      <td>0.0</td>\n",
       "    </tr>\n",
       "    <tr>\n",
       "      <th>4</th>\n",
       "      <td>published_recency</td>\n",
       "      <td>int64</td>\n",
       "      <td>306</td>\n",
       "      <td>0</td>\n",
       "      <td>0.0</td>\n",
       "    </tr>\n",
       "    <tr>\n",
       "      <th>5</th>\n",
       "      <td>categories</td>\n",
       "      <td>object</td>\n",
       "      <td>10884</td>\n",
       "      <td>0</td>\n",
       "      <td>0.0</td>\n",
       "    </tr>\n",
       "    <tr>\n",
       "      <th>6</th>\n",
       "      <td>score</td>\n",
       "      <td>float64</td>\n",
       "      <td>5</td>\n",
       "      <td>0</td>\n",
       "      <td>0.0</td>\n",
       "    </tr>\n",
       "    <tr>\n",
       "      <th>7</th>\n",
       "      <td>summary</td>\n",
       "      <td>object</td>\n",
       "      <td>1592299</td>\n",
       "      <td>0</td>\n",
       "      <td>0.0</td>\n",
       "    </tr>\n",
       "    <tr>\n",
       "      <th>8</th>\n",
       "      <td>text</td>\n",
       "      <td>object</td>\n",
       "      <td>2062628</td>\n",
       "      <td>0</td>\n",
       "      <td>0.0</td>\n",
       "    </tr>\n",
       "  </tbody>\n",
       "</table>\n",
       "</div>"
      ],
      "text/plain": [
       "            Variavel     Tipo  Qtde_unicos  Qtde_NaN  %_NaN\n",
       "0              Title   object       212403         0    0.0\n",
       "1            authors   object       127278         0    0.0\n",
       "2          publisher   object        16017         0    0.0\n",
       "3      publishedYear    int64          307         0    0.0\n",
       "4  published_recency    int64          306         0    0.0\n",
       "5         categories   object        10884         0    0.0\n",
       "6              score  float64            5         0    0.0\n",
       "7            summary   object      1592299         0    0.0\n",
       "8               text   object      2062628         0    0.0"
      ]
     },
     "execution_count": 25,
     "metadata": {},
     "output_type": "execute_result"
    }
   ],
   "source": [
    "check_columns(df, df.columns)"
   ]
  },
  {
   "cell_type": "markdown",
   "metadata": {},
   "source": [
    "### 3. Saving"
   ]
  },
  {
   "cell_type": "code",
   "execution_count": 26,
   "metadata": {},
   "outputs": [],
   "source": [
    "## Saving prepared file\n",
    "\n",
    "df.to_csv('../data/df_prepared.csv', index=False)"
   ]
  },
  {
   "cell_type": "code",
   "execution_count": null,
   "metadata": {},
   "outputs": [],
   "source": []
  }
 ],
 "metadata": {
  "kernelspec": {
   "display_name": "Python 3 (ipykernel)",
   "language": "python",
   "name": "python3"
  },
  "language_info": {
   "codemirror_mode": {
    "name": "ipython",
    "version": 3
   },
   "file_extension": ".py",
   "mimetype": "text/x-python",
   "name": "python",
   "nbconvert_exporter": "python",
   "pygments_lexer": "ipython3",
   "version": "3.10.9"
  }
 },
 "nbformat": 4,
 "nbformat_minor": 4
}
